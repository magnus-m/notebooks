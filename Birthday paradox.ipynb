{
 "cells": [
  {
   "cell_type": "markdown",
   "metadata": {},
   "source": [
    "# The Birthday Paradox - An empirical approch\n",
    "See https://en.wikipedia.org/wiki/Birthday_problem"
   ]
  },
  {
   "cell_type": "code",
   "execution_count": 267,
   "metadata": {},
   "outputs": [],
   "source": [
    "import secrets\n",
    "from collections import Counter"
   ]
  },
  {
   "cell_type": "code",
   "execution_count": 276,
   "metadata": {},
   "outputs": [],
   "source": [
    "people = 23\n",
    "days = 365"
   ]
  },
  {
   "cell_type": "code",
   "execution_count": 277,
   "metadata": {},
   "outputs": [],
   "source": [
    "def get_birthdays(people, days):\n",
    "    \n",
    "    birthdays = []\n",
    "    \n",
    "    for person in range(people):\n",
    "        \n",
    "        # random select a day (0 - 364)\n",
    "        birthday = secrets.choice(range(days))\n",
    "        \n",
    "        birthdays.append(birthday)\n",
    "    \n",
    "    return birthdays"
   ]
  },
  {
   "cell_type": "code",
   "execution_count": 278,
   "metadata": {},
   "outputs": [],
   "source": [
    "def check_overlap(birthdays):\n",
    "    \n",
    "    c = Counter(birthdays)\n",
    "    \n",
    "    l = c.values()\n",
    "    \n",
    "    two_or_more = False\n",
    "\n",
    "    for i in l:\n",
    "        if i > 1:\n",
    "            two_or_more = True\n",
    "    \n",
    "    return two_or_more\n",
    "\n",
    "    "
   ]
  },
  {
   "cell_type": "code",
   "execution_count": 279,
   "metadata": {},
   "outputs": [
    {
     "name": "stdout",
     "output_type": "stream",
     "text": [
      "50.87 %\n"
     ]
    }
   ],
   "source": [
    "repeat = 100000\n",
    "overlaps = []\n",
    "\n",
    "\n",
    "for i in range (repeat):\n",
    "    birthdays = get_birthdays(people, days=365)\n",
    "    overlap = check_overlap(birthdays)\n",
    "    overlaps.append(overlap)\n",
    "    \n",
    "change = sum(overlaps) / repeat\n",
    "\n",
    "print(round(change * 100, 2), '%')"
   ]
  },
  {
   "cell_type": "code",
   "execution_count": null,
   "metadata": {},
   "outputs": [],
   "source": []
  }
 ],
 "metadata": {
  "kernelspec": {
   "display_name": "Python [conda env:sklearn]",
   "language": "python",
   "name": "conda-env-sklearn-py"
  },
  "language_info": {
   "codemirror_mode": {
    "name": "ipython",
    "version": 3
   },
   "file_extension": ".py",
   "mimetype": "text/x-python",
   "name": "python",
   "nbconvert_exporter": "python",
   "pygments_lexer": "ipython3",
   "version": "3.7.2"
  }
 },
 "nbformat": 4,
 "nbformat_minor": 2
}
